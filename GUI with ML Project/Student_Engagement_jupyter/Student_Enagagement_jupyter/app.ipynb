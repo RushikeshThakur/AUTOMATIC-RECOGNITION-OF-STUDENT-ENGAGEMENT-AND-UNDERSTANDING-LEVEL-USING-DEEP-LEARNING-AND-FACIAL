{
 "cells": [
  {
   "cell_type": "code",
   "execution_count": null,
   "metadata": {},
   "outputs": [],
   "source": [
    "from werkzeug.wrappers import Request, Response\n",
    "from flask import Flask, request, jsonify, render_template\n",
    "from flask_bootstrap import Bootstrap\n",
    "from werkzeug.utils import secure_filename\n",
    "import os\n",
    "\n",
    "# Pacakage imported done\n",
    "\n",
    "# Flask working begin\n",
    "app = Flask(__name__)\n",
    "\n",
    "params = \"E:\\\\BE\\\\BE PROJECT\\\\GUI with ML Project\\\\Student_Engagement_jupyter\\\\Student_Enagagement_jupyter\\\\static\"\n",
    "# Path where video are uploaded or stored \n",
    "\n",
    "Bootstrap(app)\n",
    "# Adding the bootstrap to flask project\n",
    "\n",
    "@app.route('/')                              # Flask API for root or home page\n",
    "def index():\n",
    "    return render_template(\"index.html\")\n",
    "\n",
    "@app.route('/uploader',methods=['GET','POST'])   # Flask API for uploaded page\n",
    "def uploader():\n",
    "    if(request.method == 'POST'):\n",
    "        f=request.files['file1']\n",
    "        f.save(os.path.join(params, secure_filename(f.filename)))\n",
    "        print(\"Video upload successfully...\")\n",
    "        path = os.chdir(\"E:\\\\BE\\\\BE PROJECT\\\\GUI with ML Project\\\\Student_Engagement_jupyter\\\\Student_Enagagement_jupyter\\\\static\")\n",
    "        i = 0\n",
    "        for file in os.listdir(path):\n",
    "            new_file_path = \"video{}.mp4\".format(i)\n",
    "            os.rename(file,new_file_path)\n",
    "            i = i + 1\n",
    "            print(\"File rename successfully ....\")\n",
    "        return render_template(\"upload.html\")\n",
    "\n",
    "# Main method begin    \n",
    "if __name__ == '__main__':\n",
    "    from werkzeug.serving import run_simple\n",
    "    run_simple('localhost', 9000, app)             #Run Application on specific port number\n"
   ]
  },
  {
   "cell_type": "code",
   "execution_count": null,
   "metadata": {},
   "outputs": [],
   "source": []
  }
 ],
 "metadata": {
  "kernelspec": {
   "display_name": "Python 3",
   "language": "python",
   "name": "python3"
  },
  "language_info": {
   "codemirror_mode": {
    "name": "ipython",
    "version": 3
   },
   "file_extension": ".py",
   "mimetype": "text/x-python",
   "name": "python",
   "nbconvert_exporter": "python",
   "pygments_lexer": "ipython3",
   "version": "3.7.3"
  }
 },
 "nbformat": 4,
 "nbformat_minor": 2
}
